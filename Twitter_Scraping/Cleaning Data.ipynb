{
 "cells": [
  {
   "cell_type": "code",
   "execution_count": 139,
   "metadata": {},
   "outputs": [],
   "source": [
    "import pandas as pd\n",
    "import numpy as np\n",
    "from datetime import datetime\n",
    "import string\n",
    "import re\n",
    "import emoji\n",
    "import demoji\n",
    "import matplotlib.pyplot as plt"
   ]
  },
  {
   "cell_type": "markdown",
   "metadata": {},
   "source": [
    "# Loading Data"
   ]
  },
  {
   "cell_type": "markdown",
   "metadata": {},
   "source": [
    "First let's load the data to df and take a look at what we currently have"
   ]
  },
  {
   "cell_type": "code",
   "execution_count": 140,
   "metadata": {
    "scrolled": true
   },
   "outputs": [
    {
     "data": {
      "text/html": [
       "<div>\n",
       "<style scoped>\n",
       "    .dataframe tbody tr th:only-of-type {\n",
       "        vertical-align: middle;\n",
       "    }\n",
       "\n",
       "    .dataframe tbody tr th {\n",
       "        vertical-align: top;\n",
       "    }\n",
       "\n",
       "    .dataframe thead th {\n",
       "        text-align: right;\n",
       "    }\n",
       "</style>\n",
       "<table border=\"1\" class=\"dataframe\">\n",
       "  <thead>\n",
       "    <tr style=\"text-align: right;\">\n",
       "      <th></th>\n",
       "      <th>id</th>\n",
       "      <th>content</th>\n",
       "      <th>language</th>\n",
       "      <th>datetime</th>\n",
       "    </tr>\n",
       "  </thead>\n",
       "  <tbody>\n",
       "    <tr>\n",
       "      <th>0</th>\n",
       "      <td>0</td>\n",
       "      <td>If you like Tacos, what do you like more - Har...</td>\n",
       "      <td>en</td>\n",
       "      <td>2022-01-30 20:27:04+00:00</td>\n",
       "    </tr>\n",
       "    <tr>\n",
       "      <th>1</th>\n",
       "      <td>1</td>\n",
       "      <td>@waiwode I’ve seen rumblings about that…shhhhh...</td>\n",
       "      <td>en</td>\n",
       "      <td>2022-01-30 20:23:28+00:00</td>\n",
       "    </tr>\n",
       "    <tr>\n",
       "      <th>2</th>\n",
       "      <td>2</td>\n",
       "      <td>You can #okboomer me if you want, but if you s...</td>\n",
       "      <td>en</td>\n",
       "      <td>2022-01-30 20:20:50+00:00</td>\n",
       "    </tr>\n",
       "    <tr>\n",
       "      <th>3</th>\n",
       "      <td>3</td>\n",
       "      <td>TEH TRAITRS R AGENTS OV TEH ANTICHRIST AN THEI...</td>\n",
       "      <td>en</td>\n",
       "      <td>2022-01-30 19:44:56+00:00</td>\n",
       "    </tr>\n",
       "    <tr>\n",
       "      <th>4</th>\n",
       "      <td>4</td>\n",
       "      <td>We are talking #TacoBell, #Truckers, and #Life...</td>\n",
       "      <td>en</td>\n",
       "      <td>2022-01-30 19:01:00+00:00</td>\n",
       "    </tr>\n",
       "    <tr>\n",
       "      <th>...</th>\n",
       "      <td>...</td>\n",
       "      <td>...</td>\n",
       "      <td>...</td>\n",
       "      <td>...</td>\n",
       "    </tr>\n",
       "    <tr>\n",
       "      <th>69996</th>\n",
       "      <td>69996</td>\n",
       "      <td>Tu taco favorito a Q5 para celebrar el #DíaDel...</td>\n",
       "      <td>es</td>\n",
       "      <td>2018-10-04 20:56:35+00:00</td>\n",
       "    </tr>\n",
       "    <tr>\n",
       "      <th>69997</th>\n",
       "      <td>69997</td>\n",
       "      <td>For #NationalTacoDay get your #fourlegged #fri...</td>\n",
       "      <td>en</td>\n",
       "      <td>2018-10-04 20:52:25+00:00</td>\n",
       "    </tr>\n",
       "    <tr>\n",
       "      <th>69998</th>\n",
       "      <td>69998</td>\n",
       "      <td>It’s National Taco Day! 🌮 Let’s eat 🍴\\n#Nation...</td>\n",
       "      <td>en</td>\n",
       "      <td>2018-10-04 20:45:19+00:00</td>\n",
       "    </tr>\n",
       "    <tr>\n",
       "      <th>69999</th>\n",
       "      <td>69999</td>\n",
       "      <td>October HAPPY SISTER SPOOKY MONTH 🎃🎃🎃 #98offic...</td>\n",
       "      <td>en</td>\n",
       "      <td>2018-10-04 20:42:43+00:00</td>\n",
       "    </tr>\n",
       "    <tr>\n",
       "      <th>70000</th>\n",
       "      <td>70000</td>\n",
       "      <td>#NationalTacoDay  Sorry, #TacoBell, this is #C...</td>\n",
       "      <td>en</td>\n",
       "      <td>2018-10-04 20:42:31+00:00</td>\n",
       "    </tr>\n",
       "  </tbody>\n",
       "</table>\n",
       "<p>70001 rows × 4 columns</p>\n",
       "</div>"
      ],
      "text/plain": [
       "          id                                            content language  \\\n",
       "0          0  If you like Tacos, what do you like more - Har...       en   \n",
       "1          1  @waiwode I’ve seen rumblings about that…shhhhh...       en   \n",
       "2          2  You can #okboomer me if you want, but if you s...       en   \n",
       "3          3  TEH TRAITRS R AGENTS OV TEH ANTICHRIST AN THEI...       en   \n",
       "4          4  We are talking #TacoBell, #Truckers, and #Life...       en   \n",
       "...      ...                                                ...      ...   \n",
       "69996  69996  Tu taco favorito a Q5 para celebrar el #DíaDel...       es   \n",
       "69997  69997  For #NationalTacoDay get your #fourlegged #fri...       en   \n",
       "69998  69998  It’s National Taco Day! 🌮 Let’s eat 🍴\\n#Nation...       en   \n",
       "69999  69999  October HAPPY SISTER SPOOKY MONTH 🎃🎃🎃 #98offic...       en   \n",
       "70000  70000  #NationalTacoDay  Sorry, #TacoBell, this is #C...       en   \n",
       "\n",
       "                        datetime  \n",
       "0      2022-01-30 20:27:04+00:00  \n",
       "1      2022-01-30 20:23:28+00:00  \n",
       "2      2022-01-30 20:20:50+00:00  \n",
       "3      2022-01-30 19:44:56+00:00  \n",
       "4      2022-01-30 19:01:00+00:00  \n",
       "...                          ...  \n",
       "69996  2018-10-04 20:56:35+00:00  \n",
       "69997  2018-10-04 20:52:25+00:00  \n",
       "69998  2018-10-04 20:45:19+00:00  \n",
       "69999  2018-10-04 20:42:43+00:00  \n",
       "70000  2018-10-04 20:42:31+00:00  \n",
       "\n",
       "[70001 rows x 4 columns]"
      ]
     },
     "execution_count": 140,
     "metadata": {},
     "output_type": "execute_result"
    }
   ],
   "source": [
    "df = pd.read_csv('tweets_hashtag.csv')\n",
    "df"
   ]
  },
  {
   "cell_type": "code",
   "execution_count": 141,
   "metadata": {
    "scrolled": true
   },
   "outputs": [
    {
     "data": {
      "text/plain": [
       "id           int64\n",
       "content     object\n",
       "language    object\n",
       "datetime    object\n",
       "dtype: object"
      ]
     },
     "execution_count": 141,
     "metadata": {},
     "output_type": "execute_result"
    }
   ],
   "source": [
    "df.dtypes"
   ]
  },
  {
   "cell_type": "markdown",
   "metadata": {},
   "source": [
    "We have several columns that we can drop almost right away. Let's jump into cleaning the data to look at how these columns are helpful to us."
   ]
  },
  {
   "cell_type": "markdown",
   "metadata": {},
   "source": [
    "# Cleaning Data"
   ]
  },
  {
   "cell_type": "markdown",
   "metadata": {},
   "source": [
    "The scope of our project will only work on tweets that are in english. Let's drop all tweets that are not in written english using the language column"
   ]
  },
  {
   "cell_type": "code",
   "execution_count": 142,
   "metadata": {
    "scrolled": false
   },
   "outputs": [
    {
     "data": {
      "text/html": [
       "<div>\n",
       "<style scoped>\n",
       "    .dataframe tbody tr th:only-of-type {\n",
       "        vertical-align: middle;\n",
       "    }\n",
       "\n",
       "    .dataframe tbody tr th {\n",
       "        vertical-align: top;\n",
       "    }\n",
       "\n",
       "    .dataframe thead th {\n",
       "        text-align: right;\n",
       "    }\n",
       "</style>\n",
       "<table border=\"1\" class=\"dataframe\">\n",
       "  <thead>\n",
       "    <tr style=\"text-align: right;\">\n",
       "      <th></th>\n",
       "      <th>id</th>\n",
       "      <th>content</th>\n",
       "      <th>language</th>\n",
       "      <th>datetime</th>\n",
       "    </tr>\n",
       "  </thead>\n",
       "  <tbody>\n",
       "    <tr>\n",
       "      <th>0</th>\n",
       "      <td>0</td>\n",
       "      <td>If you like Tacos, what do you like more - Har...</td>\n",
       "      <td>en</td>\n",
       "      <td>2022-01-30 20:27:04+00:00</td>\n",
       "    </tr>\n",
       "    <tr>\n",
       "      <th>1</th>\n",
       "      <td>1</td>\n",
       "      <td>@waiwode I’ve seen rumblings about that…shhhhh...</td>\n",
       "      <td>en</td>\n",
       "      <td>2022-01-30 20:23:28+00:00</td>\n",
       "    </tr>\n",
       "    <tr>\n",
       "      <th>2</th>\n",
       "      <td>2</td>\n",
       "      <td>You can #okboomer me if you want, but if you s...</td>\n",
       "      <td>en</td>\n",
       "      <td>2022-01-30 20:20:50+00:00</td>\n",
       "    </tr>\n",
       "    <tr>\n",
       "      <th>3</th>\n",
       "      <td>3</td>\n",
       "      <td>TEH TRAITRS R AGENTS OV TEH ANTICHRIST AN THEI...</td>\n",
       "      <td>en</td>\n",
       "      <td>2022-01-30 19:44:56+00:00</td>\n",
       "    </tr>\n",
       "    <tr>\n",
       "      <th>4</th>\n",
       "      <td>4</td>\n",
       "      <td>We are talking #TacoBell, #Truckers, and #Life...</td>\n",
       "      <td>en</td>\n",
       "      <td>2022-01-30 19:01:00+00:00</td>\n",
       "    </tr>\n",
       "    <tr>\n",
       "      <th>...</th>\n",
       "      <td>...</td>\n",
       "      <td>...</td>\n",
       "      <td>...</td>\n",
       "      <td>...</td>\n",
       "    </tr>\n",
       "    <tr>\n",
       "      <th>69995</th>\n",
       "      <td>69995</td>\n",
       "      <td>Add me on Instagram #Instagram #Inktober #AskN...</td>\n",
       "      <td>en</td>\n",
       "      <td>2018-10-04 20:58:55+00:00</td>\n",
       "    </tr>\n",
       "    <tr>\n",
       "      <th>69997</th>\n",
       "      <td>69997</td>\n",
       "      <td>For #NationalTacoDay get your #fourlegged #fri...</td>\n",
       "      <td>en</td>\n",
       "      <td>2018-10-04 20:52:25+00:00</td>\n",
       "    </tr>\n",
       "    <tr>\n",
       "      <th>69998</th>\n",
       "      <td>69998</td>\n",
       "      <td>It’s National Taco Day! 🌮 Let’s eat 🍴\\n#Nation...</td>\n",
       "      <td>en</td>\n",
       "      <td>2018-10-04 20:45:19+00:00</td>\n",
       "    </tr>\n",
       "    <tr>\n",
       "      <th>69999</th>\n",
       "      <td>69999</td>\n",
       "      <td>October HAPPY SISTER SPOOKY MONTH 🎃🎃🎃 #98offic...</td>\n",
       "      <td>en</td>\n",
       "      <td>2018-10-04 20:42:43+00:00</td>\n",
       "    </tr>\n",
       "    <tr>\n",
       "      <th>70000</th>\n",
       "      <td>70000</td>\n",
       "      <td>#NationalTacoDay  Sorry, #TacoBell, this is #C...</td>\n",
       "      <td>en</td>\n",
       "      <td>2018-10-04 20:42:31+00:00</td>\n",
       "    </tr>\n",
       "  </tbody>\n",
       "</table>\n",
       "<p>60468 rows × 4 columns</p>\n",
       "</div>"
      ],
      "text/plain": [
       "          id                                            content language  \\\n",
       "0          0  If you like Tacos, what do you like more - Har...       en   \n",
       "1          1  @waiwode I’ve seen rumblings about that…shhhhh...       en   \n",
       "2          2  You can #okboomer me if you want, but if you s...       en   \n",
       "3          3  TEH TRAITRS R AGENTS OV TEH ANTICHRIST AN THEI...       en   \n",
       "4          4  We are talking #TacoBell, #Truckers, and #Life...       en   \n",
       "...      ...                                                ...      ...   \n",
       "69995  69995  Add me on Instagram #Instagram #Inktober #AskN...       en   \n",
       "69997  69997  For #NationalTacoDay get your #fourlegged #fri...       en   \n",
       "69998  69998  It’s National Taco Day! 🌮 Let’s eat 🍴\\n#Nation...       en   \n",
       "69999  69999  October HAPPY SISTER SPOOKY MONTH 🎃🎃🎃 #98offic...       en   \n",
       "70000  70000  #NationalTacoDay  Sorry, #TacoBell, this is #C...       en   \n",
       "\n",
       "                        datetime  \n",
       "0      2022-01-30 20:27:04+00:00  \n",
       "1      2022-01-30 20:23:28+00:00  \n",
       "2      2022-01-30 20:20:50+00:00  \n",
       "3      2022-01-30 19:44:56+00:00  \n",
       "4      2022-01-30 19:01:00+00:00  \n",
       "...                          ...  \n",
       "69995  2018-10-04 20:58:55+00:00  \n",
       "69997  2018-10-04 20:52:25+00:00  \n",
       "69998  2018-10-04 20:45:19+00:00  \n",
       "69999  2018-10-04 20:42:43+00:00  \n",
       "70000  2018-10-04 20:42:31+00:00  \n",
       "\n",
       "[60468 rows x 4 columns]"
      ]
     },
     "execution_count": 142,
     "metadata": {},
     "output_type": "execute_result"
    }
   ],
   "source": [
    "df = df[df.language == \"en\"] #remove all non english tweets\n",
    "df"
   ]
  },
  {
   "cell_type": "markdown",
   "metadata": {},
   "source": [
    "I thought it would be interesting to view how often people tweet about taco bell so I created a date column that removed the time from the datetime column so we can group tweets by date later on"
   ]
  },
  {
   "cell_type": "code",
   "execution_count": 143,
   "metadata": {},
   "outputs": [
    {
     "name": "stderr",
     "output_type": "stream",
     "text": [
      "<ipython-input-143-3e28dcbc6ae9>:2: SettingWithCopyWarning: \n",
      "A value is trying to be set on a copy of a slice from a DataFrame.\n",
      "Try using .loc[row_indexer,col_indexer] = value instead\n",
      "\n",
      "See the caveats in the documentation: https://pandas.pydata.org/pandas-docs/stable/user_guide/indexing.html#returning-a-view-versus-a-copy\n",
      "  df['datetime'] = pd.to_datetime(df['datetime'])\n",
      "<ipython-input-143-3e28dcbc6ae9>:3: SettingWithCopyWarning: \n",
      "A value is trying to be set on a copy of a slice from a DataFrame.\n",
      "Try using .loc[row_indexer,col_indexer] = value instead\n",
      "\n",
      "See the caveats in the documentation: https://pandas.pydata.org/pandas-docs/stable/user_guide/indexing.html#returning-a-view-versus-a-copy\n",
      "  df['date'] = df['datetime'].dt.date\n"
     ]
    },
    {
     "data": {
      "text/html": [
       "<div>\n",
       "<style scoped>\n",
       "    .dataframe tbody tr th:only-of-type {\n",
       "        vertical-align: middle;\n",
       "    }\n",
       "\n",
       "    .dataframe tbody tr th {\n",
       "        vertical-align: top;\n",
       "    }\n",
       "\n",
       "    .dataframe thead th {\n",
       "        text-align: right;\n",
       "    }\n",
       "</style>\n",
       "<table border=\"1\" class=\"dataframe\">\n",
       "  <thead>\n",
       "    <tr style=\"text-align: right;\">\n",
       "      <th></th>\n",
       "      <th>id</th>\n",
       "      <th>content</th>\n",
       "      <th>language</th>\n",
       "      <th>date</th>\n",
       "    </tr>\n",
       "  </thead>\n",
       "  <tbody>\n",
       "    <tr>\n",
       "      <th>0</th>\n",
       "      <td>0</td>\n",
       "      <td>If you like Tacos, what do you like more - Har...</td>\n",
       "      <td>en</td>\n",
       "      <td>2022-01-30</td>\n",
       "    </tr>\n",
       "    <tr>\n",
       "      <th>1</th>\n",
       "      <td>1</td>\n",
       "      <td>@waiwode I’ve seen rumblings about that…shhhhh...</td>\n",
       "      <td>en</td>\n",
       "      <td>2022-01-30</td>\n",
       "    </tr>\n",
       "    <tr>\n",
       "      <th>2</th>\n",
       "      <td>2</td>\n",
       "      <td>You can #okboomer me if you want, but if you s...</td>\n",
       "      <td>en</td>\n",
       "      <td>2022-01-30</td>\n",
       "    </tr>\n",
       "    <tr>\n",
       "      <th>3</th>\n",
       "      <td>3</td>\n",
       "      <td>TEH TRAITRS R AGENTS OV TEH ANTICHRIST AN THEI...</td>\n",
       "      <td>en</td>\n",
       "      <td>2022-01-30</td>\n",
       "    </tr>\n",
       "    <tr>\n",
       "      <th>4</th>\n",
       "      <td>4</td>\n",
       "      <td>We are talking #TacoBell, #Truckers, and #Life...</td>\n",
       "      <td>en</td>\n",
       "      <td>2022-01-30</td>\n",
       "    </tr>\n",
       "  </tbody>\n",
       "</table>\n",
       "</div>"
      ],
      "text/plain": [
       "   id                                            content language        date\n",
       "0   0  If you like Tacos, what do you like more - Har...       en  2022-01-30\n",
       "1   1  @waiwode I’ve seen rumblings about that…shhhhh...       en  2022-01-30\n",
       "2   2  You can #okboomer me if you want, but if you s...       en  2022-01-30\n",
       "3   3  TEH TRAITRS R AGENTS OV TEH ANTICHRIST AN THEI...       en  2022-01-30\n",
       "4   4  We are talking #TacoBell, #Truckers, and #Life...       en  2022-01-30"
      ]
     },
     "execution_count": 143,
     "metadata": {},
     "output_type": "execute_result"
    }
   ],
   "source": [
    "#Drop time to only focus on date for basic EDA\n",
    "df['datetime'] = pd.to_datetime(df['datetime'])\n",
    "df['date'] = df['datetime'].dt.date\n",
    "df = df.drop(columns=['datetime'])\n",
    "df.head(5)"
   ]
  },
  {
   "cell_type": "markdown",
   "metadata": {},
   "source": [
    "I found several tweets that contained only 1-2 words. Because we are filtering for \"Taco Bell\" already I want at least 2 more words in the tweet so our model will have slightly more to go off of."
   ]
  },
  {
   "cell_type": "code",
   "execution_count": 144,
   "metadata": {},
   "outputs": [
    {
     "name": "stdout",
     "output_type": "stream",
     "text": [
      "<class 'pandas.core.frame.DataFrame'>\n",
      "Int64Index: 60266 entries, 0 to 70000\n",
      "Data columns (total 4 columns):\n",
      " #   Column    Non-Null Count  Dtype \n",
      "---  ------    --------------  ----- \n",
      " 0   id        60266 non-null  int64 \n",
      " 1   content   60266 non-null  object\n",
      " 2   language  60266 non-null  object\n",
      " 3   date      60266 non-null  object\n",
      "dtypes: int64(1), object(3)\n",
      "memory usage: 2.3+ MB\n"
     ]
    }
   ],
   "source": [
    "#Removing tweets that are less than 3 words\n",
    "df['length'] = df.content.str.count(' ') #count words - 1 for each tweet\n",
    "df = df[df.length > 2] #drop columns with less than 3 words\n",
    "df = df.drop(columns=['length']) #drop temporary length column that was created\n",
    "df.info()"
   ]
  },
  {
   "cell_type": "markdown",
   "metadata": {},
   "source": [
    "# Graphing Data by Date"
   ]
  },
  {
   "cell_type": "markdown",
   "metadata": {},
   "source": [
    "The below graph shows us the consistancy that people tweet about taco bell. We notice that it ranged from 3000 - 4000 tweets a day."
   ]
  },
  {
   "cell_type": "code",
   "execution_count": 145,
   "metadata": {},
   "outputs": [
    {
     "data": {
      "text/plain": [
       "date\n",
       "2022-01-20    3494\n",
       "2022-01-21    4074\n",
       "2022-01-22    3394\n",
       "2022-01-23    3321\n",
       "2022-01-24    3779\n",
       "2022-01-25    3891\n",
       "2022-01-26    4173\n",
       "2022-01-27    3614\n",
       "2022-01-28    4106\n",
       "2022-01-29    3217\n",
       "Name: content, dtype: int64"
      ]
     },
     "execution_count": 145,
     "metadata": {},
     "output_type": "execute_result"
    }
   ],
   "source": [
    "df_date"
   ]
  },
  {
   "cell_type": "code",
   "execution_count": 146,
   "metadata": {
    "scrolled": true
   },
   "outputs": [
    {
     "data": {
      "text/plain": [
       "<AxesSubplot:xlabel='date'>"
      ]
     },
     "execution_count": 146,
     "metadata": {},
     "output_type": "execute_result"
    },
    {
     "data": {
      "image/png": "[encoded data removed]",
      "text/plain": [
       "<Figure size 432x288 with 1 Axes>"
      ]
     },
     "metadata": {
      "needs_background": "light"
     },
     "output_type": "display_data"
    }
   ],
   "source": [
    "df_date = df.groupby('date')['content'].count().tail(10)\n",
    "df_date.plot.bar()"
   ]
  },
  {
   "cell_type": "markdown",
   "metadata": {},
   "source": [
    "# Data Cleaning"
   ]
  },
  {
   "cell_type": "markdown",
   "metadata": {},
   "source": [
    "These tweets are MESSY. Let's clean it up. I want to remove all mentions (@'s) in tweets. I also want to remove all hashtags (#'s) but keep the text because the hashtag can be a sign of sentiment later on. Lastly we need to remove all emojis and punctuation. For emojis I explored the option of replacing emojis with words describing the emoji. For example 😂 would become laughing. This proved problematic because not all emojis had predefined labels so I removed them entirely."
   ]
  },
  {
   "cell_type": "code",
   "execution_count": 147,
   "metadata": {
    "scrolled": false
   },
   "outputs": [
    {
     "data": {
      "text/html": [
       "<div>\n",
       "<style scoped>\n",
       "    .dataframe tbody tr th:only-of-type {\n",
       "        vertical-align: middle;\n",
       "    }\n",
       "\n",
       "    .dataframe tbody tr th {\n",
       "        vertical-align: top;\n",
       "    }\n",
       "\n",
       "    .dataframe thead th {\n",
       "        text-align: right;\n",
       "    }\n",
       "</style>\n",
       "<table border=\"1\" class=\"dataframe\">\n",
       "  <thead>\n",
       "    <tr style=\"text-align: right;\">\n",
       "      <th></th>\n",
       "      <th>id</th>\n",
       "      <th>content</th>\n",
       "      <th>language</th>\n",
       "      <th>date</th>\n",
       "    </tr>\n",
       "  </thead>\n",
       "  <tbody>\n",
       "    <tr>\n",
       "      <th>0</th>\n",
       "      <td>0</td>\n",
       "      <td>If you like Tacos, what do you like more - Har...</td>\n",
       "      <td>en</td>\n",
       "      <td>2022-01-30</td>\n",
       "    </tr>\n",
       "    <tr>\n",
       "      <th>1</th>\n",
       "      <td>1</td>\n",
       "      <td>@waiwode I’ve seen rumblings about that…shhhhh...</td>\n",
       "      <td>en</td>\n",
       "      <td>2022-01-30</td>\n",
       "    </tr>\n",
       "    <tr>\n",
       "      <th>2</th>\n",
       "      <td>2</td>\n",
       "      <td>You can #okboomer me if you want, but if you s...</td>\n",
       "      <td>en</td>\n",
       "      <td>2022-01-30</td>\n",
       "    </tr>\n",
       "    <tr>\n",
       "      <th>3</th>\n",
       "      <td>3</td>\n",
       "      <td>TEH TRAITRS R AGENTS OV TEH ANTICHRIST AN THEI...</td>\n",
       "      <td>en</td>\n",
       "      <td>2022-01-30</td>\n",
       "    </tr>\n",
       "    <tr>\n",
       "      <th>4</th>\n",
       "      <td>4</td>\n",
       "      <td>We are talking #TacoBell, #Truckers, and #Life...</td>\n",
       "      <td>en</td>\n",
       "      <td>2022-01-30</td>\n",
       "    </tr>\n",
       "    <tr>\n",
       "      <th>...</th>\n",
       "      <td>...</td>\n",
       "      <td>...</td>\n",
       "      <td>...</td>\n",
       "      <td>...</td>\n",
       "    </tr>\n",
       "    <tr>\n",
       "      <th>69995</th>\n",
       "      <td>69995</td>\n",
       "      <td>Add me on Instagram #Instagram #Inktober #AskN...</td>\n",
       "      <td>en</td>\n",
       "      <td>2018-10-04</td>\n",
       "    </tr>\n",
       "    <tr>\n",
       "      <th>69997</th>\n",
       "      <td>69997</td>\n",
       "      <td>For #NationalTacoDay get your #fourlegged #fri...</td>\n",
       "      <td>en</td>\n",
       "      <td>2018-10-04</td>\n",
       "    </tr>\n",
       "    <tr>\n",
       "      <th>69998</th>\n",
       "      <td>69998</td>\n",
       "      <td>It’s National Taco Day! 🌮 Let’s eat 🍴\\n#Nation...</td>\n",
       "      <td>en</td>\n",
       "      <td>2018-10-04</td>\n",
       "    </tr>\n",
       "    <tr>\n",
       "      <th>69999</th>\n",
       "      <td>69999</td>\n",
       "      <td>October HAPPY SISTER SPOOKY MONTH 🎃🎃🎃 #98offic...</td>\n",
       "      <td>en</td>\n",
       "      <td>2018-10-04</td>\n",
       "    </tr>\n",
       "    <tr>\n",
       "      <th>70000</th>\n",
       "      <td>70000</td>\n",
       "      <td>#NationalTacoDay  Sorry, #TacoBell, this is #C...</td>\n",
       "      <td>en</td>\n",
       "      <td>2018-10-04</td>\n",
       "    </tr>\n",
       "  </tbody>\n",
       "</table>\n",
       "<p>60266 rows × 4 columns</p>\n",
       "</div>"
      ],
      "text/plain": [
       "          id                                            content language  \\\n",
       "0          0  If you like Tacos, what do you like more - Har...       en   \n",
       "1          1  @waiwode I’ve seen rumblings about that…shhhhh...       en   \n",
       "2          2  You can #okboomer me if you want, but if you s...       en   \n",
       "3          3  TEH TRAITRS R AGENTS OV TEH ANTICHRIST AN THEI...       en   \n",
       "4          4  We are talking #TacoBell, #Truckers, and #Life...       en   \n",
       "...      ...                                                ...      ...   \n",
       "69995  69995  Add me on Instagram #Instagram #Inktober #AskN...       en   \n",
       "69997  69997  For #NationalTacoDay get your #fourlegged #fri...       en   \n",
       "69998  69998  It’s National Taco Day! 🌮 Let’s eat 🍴\\n#Nation...       en   \n",
       "69999  69999  October HAPPY SISTER SPOOKY MONTH 🎃🎃🎃 #98offic...       en   \n",
       "70000  70000  #NationalTacoDay  Sorry, #TacoBell, this is #C...       en   \n",
       "\n",
       "             date  \n",
       "0      2022-01-30  \n",
       "1      2022-01-30  \n",
       "2      2022-01-30  \n",
       "3      2022-01-30  \n",
       "4      2022-01-30  \n",
       "...           ...  \n",
       "69995  2018-10-04  \n",
       "69997  2018-10-04  \n",
       "69998  2018-10-04  \n",
       "69999  2018-10-04  \n",
       "70000  2018-10-04  \n",
       "\n",
       "[60266 rows x 4 columns]"
      ]
     },
     "execution_count": 147,
     "metadata": {},
     "output_type": "execute_result"
    }
   ],
   "source": [
    "df"
   ]
  },
  {
   "cell_type": "markdown",
   "metadata": {},
   "source": [
    "Let's drop the columns we do not need anymore to save time when cleaning the data"
   ]
  },
  {
   "cell_type": "code",
   "execution_count": 148,
   "metadata": {},
   "outputs": [],
   "source": [
    "df = df.drop(columns = [\"language\", \"date\", \"id\"])"
   ]
  },
  {
   "cell_type": "markdown",
   "metadata": {},
   "source": [
    "Start by removing all @'s, links, and replacing hte #'s"
   ]
  },
  {
   "cell_type": "code",
   "execution_count": 149,
   "metadata": {},
   "outputs": [
    {
     "data": {
      "text/html": [
       "<div>\n",
       "<style scoped>\n",
       "    .dataframe tbody tr th:only-of-type {\n",
       "        vertical-align: middle;\n",
       "    }\n",
       "\n",
       "    .dataframe tbody tr th {\n",
       "        vertical-align: top;\n",
       "    }\n",
       "\n",
       "    .dataframe thead th {\n",
       "        text-align: right;\n",
       "    }\n",
       "</style>\n",
       "<table border=\"1\" class=\"dataframe\">\n",
       "  <thead>\n",
       "    <tr style=\"text-align: right;\">\n",
       "      <th></th>\n",
       "      <th>content</th>\n",
       "    </tr>\n",
       "  </thead>\n",
       "  <tbody>\n",
       "    <tr>\n",
       "      <th>0</th>\n",
       "      <td>If you like Tacos, what do you like more - Har...</td>\n",
       "    </tr>\n",
       "    <tr>\n",
       "      <th>1</th>\n",
       "      <td>I’ve seen rumblings about that…shhhhh\\n\\n\\n</td>\n",
       "    </tr>\n",
       "    <tr>\n",
       "      <th>2</th>\n",
       "      <td>You can  me if you want, but if you set out to...</td>\n",
       "    </tr>\n",
       "    <tr>\n",
       "      <th>3</th>\n",
       "      <td>TEH TRAITRS R AGENTS OV TEH ANTICHRIST AN THEI...</td>\n",
       "    </tr>\n",
       "    <tr>\n",
       "      <th>4</th>\n",
       "      <td>We are talking , , and  with the Happy Hour An...</td>\n",
       "    </tr>\n",
       "    <tr>\n",
       "      <th>...</th>\n",
       "      <td>...</td>\n",
       "    </tr>\n",
       "    <tr>\n",
       "      <th>69995</th>\n",
       "      <td>Add me on Instagram</td>\n",
       "    </tr>\n",
       "    <tr>\n",
       "      <th>69997</th>\n",
       "      <td>For  get your   some  seasoning for their . Th...</td>\n",
       "    </tr>\n",
       "    <tr>\n",
       "      <th>69998</th>\n",
       "      <td>It’s National Taco Day! 🌮 Let’s eat 🍴\\n</td>\n",
       "    </tr>\n",
       "    <tr>\n",
       "      <th>69999</th>\n",
       "      <td>October HAPPY SISTER SPOOKY MONTH 🎃🎃🎃</td>\n",
       "    </tr>\n",
       "    <tr>\n",
       "      <th>70000</th>\n",
       "      <td>Sorry, , this is . We KNOW , and you ain't n...</td>\n",
       "    </tr>\n",
       "  </tbody>\n",
       "</table>\n",
       "<p>60266 rows × 1 columns</p>\n",
       "</div>"
      ],
      "text/plain": [
       "                                                 content\n",
       "0      If you like Tacos, what do you like more - Har...\n",
       "1           I’ve seen rumblings about that…shhhhh\\n\\n\\n \n",
       "2      You can  me if you want, but if you set out to...\n",
       "3      TEH TRAITRS R AGENTS OV TEH ANTICHRIST AN THEI...\n",
       "4      We are talking , , and  with the Happy Hour An...\n",
       "...                                                  ...\n",
       "69995                        Add me on Instagram        \n",
       "69997  For  get your   some  seasoning for their . Th...\n",
       "69998    It’s National Taco Day! 🌮 Let’s eat 🍴\\n        \n",
       "69999  October HAPPY SISTER SPOOKY MONTH 🎃🎃🎃            \n",
       "70000    Sorry, , this is . We KNOW , and you ain't n...\n",
       "\n",
       "[60266 rows x 1 columns]"
      ]
     },
     "execution_count": 149,
     "metadata": {},
     "output_type": "execute_result"
    }
   ],
   "source": [
    "def cleaner(tweet):\n",
    "    tweet = re.sub(\"@[A-Za-z0-9_]+\",\"\", tweet) #Remove @ sign\n",
    "    tweet = re.sub(\"#[A-Za-z0-9_]+\",\"\", tweet)\n",
    "    tweet = re.sub(r\"(?:\\@|http?\\://|https?\\://|www)\\S+\", \"\", tweet) #Remove http links\n",
    "    tweet = tweet.replace(\"#\", \"\") #Remove hashtag sign but keep the text\n",
    "    return tweet\n",
    "\n",
    "df['content'] = df['content'].map(lambda x: cleaner(x))\n",
    "df"
   ]
  },
  {
   "cell_type": "markdown",
   "metadata": {},
   "source": [
    "First attempt at removing all emojis"
   ]
  },
  {
   "cell_type": "code",
   "execution_count": 150,
   "metadata": {},
   "outputs": [],
   "source": [
    "#With new emojis being added this gets MOST but not all emojis in the data\n",
    "def remove_emoji(string):\n",
    "    emoji_pattern = re.compile(\"[\"\n",
    "                               u\"\\U0001F600-\\U0001F64F\"  # emoticons\n",
    "                               u\"\\U0001F300-\\U0001F5FF\"  # symbols & pictographs\n",
    "                               u\"\\U0001F680-\\U0001F6FF\"  # transport & map symbols\n",
    "                               u\"\\U0001F1E0-\\U0001F1FF\"  # flags (iOS)\n",
    "                               u\"\\U00002500-\\U00002BEF\"  # chinese char\n",
    "                               u\"\\U00002702-\\U000027B0\"\n",
    "                               u\"\\U00002702-\\U000027B0\"\n",
    "                               u\"\\U000024C2-\\U0001F251\"\n",
    "                               u\"\\U0001f926-\\U0001f937\"\n",
    "                               u\"\\U00010000-\\U0010ffff\"\n",
    "                               u\"\\u2640-\\u2642\"\n",
    "                               u\"\\u2600-\\u2B55\"\n",
    "                               u\"\\u200d\"\n",
    "                               u\"\\u23cf\"\n",
    "                               u\"\\u23e9\"\n",
    "                               u\"\\u231a\"\n",
    "                               u\"\\ufe0f\"  # dingbats\n",
    "                               u\"\\u3030\"\n",
    "                               \"]+\", flags=re.UNICODE)\n",
    "    return emoji_pattern.sub(r'', string)\n",
    "\n",
    "df['content'] = df['content'].map(lambda x: remove_emoji(x))"
   ]
  },
  {
   "cell_type": "markdown",
   "metadata": {},
   "source": [
    "First attempt at removing all punctuation."
   ]
  },
  {
   "cell_type": "code",
   "execution_count": 151,
   "metadata": {},
   "outputs": [],
   "source": [
    "punc = '''!()-[]{};:'\"\"\\,<>./?@#$%^&*_~'''"
   ]
  },
  {
   "cell_type": "code",
   "execution_count": 152,
   "metadata": {
    "scrolled": false
   },
   "outputs": [],
   "source": [
    "def remove_punct(text):\n",
    "    text = re.sub('[0-9]+', '', text)\n",
    "    text  = \"\".join([char for char in text if char not in string.punctuation])\n",
    "    for char in text:\n",
    "        if char in punc:\n",
    "            text = text.replace(char,\"\")\n",
    "    text = text.replace(\"amp\", \"\") #& is replaced with amp, remove\n",
    "    text = text.replace(\"\\n\", \"\") #remove indents\n",
    "    text = text.lstrip()\n",
    "    text = text.rstrip()\n",
    "    return text\n",
    "\n",
    "df['Tweet_clean'] = df['content'].map(lambda x: remove_punct(x))"
   ]
  },
  {
   "cell_type": "markdown",
   "metadata": {},
   "source": [
    "Oh no! Our data is not all clean yet. This was something I could not figure out how it was not grabbing all the punctuation. The solution I ultimately had was to search through the dataset one more time but did it by each character in evert Tweet_clean row. This takes a LOT longer than the above solution but gaurentees we remove all punctuation."
   ]
  },
  {
   "cell_type": "code",
   "execution_count": 154,
   "metadata": {},
   "outputs": [],
   "source": [
    "def strip_links(text):\n",
    "    link_regex    = re.compile('((https?):((//)|(\\\\\\\\))+([\\w\\d:#@%/;$()~_?\\+-=\\\\\\.&](#!)?)*)', re.DOTALL)\n",
    "    links         = re.findall(link_regex, text)\n",
    "    for link in links:\n",
    "        text = text.replace(link[0], ', ')    \n",
    "    return text\n",
    "\n",
    "def strip_all_entities(text):\n",
    "    entity_prefixes = ['@','#']\n",
    "    for separator in  string.punctuation:\n",
    "        if separator not in entity_prefixes :\n",
    "            text = text.replace(separator,'')\n",
    "    words = []\n",
    "    for word in text.split():\n",
    "        word = word.strip()\n",
    "        if word:\n",
    "            if word[0] not in entity_prefixes:\n",
    "                words.append(word)\n",
    "    return ' '.join(words)\n",
    "\n",
    "#Iterate through tweets and replace #, @, links, special characters, and punctuation\n",
    "for x in df[\"Tweet_clean\"]:\n",
    "    old = x\n",
    "    new = strip_all_entities(strip_links(x))\n",
    "    new = [re.sub(r\"[^a-zA-Z0-9]+\", ' ', k) for k in new.split(\"\\n\")]\n",
    "    df[\"Tweet_clean\"] = df[\"Tweet_clean\"].replace([old],new)"
   ]
  },
  {
   "cell_type": "code",
   "execution_count": 155,
   "metadata": {},
   "outputs": [],
   "source": [
    "df = df.drop_duplicates(subset=['Tweet_clean'])"
   ]
  },
  {
   "cell_type": "markdown",
   "metadata": {},
   "source": [
    "Now its all clean! We can finally create a copy of the dataset we have and save it."
   ]
  },
  {
   "cell_type": "markdown",
   "metadata": {},
   "source": [
    "# What we actually need"
   ]
  },
  {
   "cell_type": "markdown",
   "metadata": {},
   "source": [
    "what we really need for the model we will be buidling is the content of the tweet. We will be dropping the other columns and save to a new csv file called cleaned_tweets.csv. We will be hand labeling the data starting now! Hand labeled data will be in the labeled column that I will create in Excel After we have labeled the data we will look into tokenizing the tweets, removing stop words, stemming and lammitization"
   ]
  },
  {
   "cell_type": "code",
   "execution_count": 158,
   "metadata": {
    "scrolled": true
   },
   "outputs": [
    {
     "data": {
      "text/html": [
       "<div>\n",
       "<style scoped>\n",
       "    .dataframe tbody tr th:only-of-type {\n",
       "        vertical-align: middle;\n",
       "    }\n",
       "\n",
       "    .dataframe tbody tr th {\n",
       "        vertical-align: top;\n",
       "    }\n",
       "\n",
       "    .dataframe thead th {\n",
       "        text-align: right;\n",
       "    }\n",
       "</style>\n",
       "<table border=\"1\" class=\"dataframe\">\n",
       "  <thead>\n",
       "    <tr style=\"text-align: right;\">\n",
       "      <th></th>\n",
       "      <th>content</th>\n",
       "      <th>Tweet_clean</th>\n",
       "    </tr>\n",
       "  </thead>\n",
       "  <tbody>\n",
       "    <tr>\n",
       "      <th>0</th>\n",
       "      <td>If you like Tacos, what do you like more - Har...</td>\n",
       "      <td>If you like Tacos what do you like more Hard o...</td>\n",
       "    </tr>\n",
       "    <tr>\n",
       "      <th>1</th>\n",
       "      <td>I’ve seen rumblings about that…shhhhh\\n\\n\\n</td>\n",
       "      <td>I ve seen rumblings about that shhhhh</td>\n",
       "    </tr>\n",
       "    <tr>\n",
       "      <th>2</th>\n",
       "      <td>You can  me if you want, but if you set out to...</td>\n",
       "      <td>You can me if you want but if you set out to c...</td>\n",
       "    </tr>\n",
       "    <tr>\n",
       "      <th>3</th>\n",
       "      <td>TEH TRAITRS R AGENTS OV TEH ANTICHRIST AN THEI...</td>\n",
       "      <td>TEH TRAITRS R AGENTS OV TEH ANTICHRIST AN THEI...</td>\n",
       "    </tr>\n",
       "    <tr>\n",
       "      <th>4</th>\n",
       "      <td>We are talking , , and  with the Happy Hour An...</td>\n",
       "      <td>We are talking and with the Happy Hour Anchorm...</td>\n",
       "    </tr>\n",
       "    <tr>\n",
       "      <th>5</th>\n",
       "      <td>Is there any thing at Taco Bell that is real f...</td>\n",
       "      <td>Is there any thing at Taco Bell that is real food</td>\n",
       "    </tr>\n",
       "    <tr>\n",
       "      <th>6</th>\n",
       "      <td>Start them out right!  17yo future paramedic  ...</td>\n",
       "      <td>Start them out right yo future paramedic Taco ...</td>\n",
       "    </tr>\n",
       "    <tr>\n",
       "      <th>7</th>\n",
       "      <td>Every time my kid picks  over delicious, local...</td>\n",
       "      <td>Every time my kid picks over delicious local T...</td>\n",
       "    </tr>\n",
       "    <tr>\n",
       "      <th>8</th>\n",
       "      <td>son super excited, to b getting support dog. ...</td>\n",
       "      <td>son super excited to b getting support dog Txt...</td>\n",
       "    </tr>\n",
       "    <tr>\n",
       "      <th>9</th>\n",
       "      <td>is calling my name right now..lol\\nBbs</td>\n",
       "      <td>is calling my name right nowlolBbs</td>\n",
       "    </tr>\n",
       "    <tr>\n",
       "      <th>10</th>\n",
       "      <td>IN ORDR 2 UNDERSTAND HOO CONTROLS US U NED 2 R...</td>\n",
       "      <td>IN ORDR UNDERSTAND HOO CONTROLS US U NED REALI...</td>\n",
       "    </tr>\n",
       "    <tr>\n",
       "      <th>11</th>\n",
       "      <td>Anyone else hate that  commercial with the bit...</td>\n",
       "      <td>Anyone else hate that commercial with the bitc...</td>\n",
       "    </tr>\n",
       "    <tr>\n",
       "      <th>12</th>\n",
       "      <td>I love me .  Newest YouTube and TikTok short.\\...</td>\n",
       "      <td>I love me Newest YouTube and TikTok short</td>\n",
       "    </tr>\n",
       "    <tr>\n",
       "      <th>13</th>\n",
       "      <td>Bring back the shredded chicken burrito</td>\n",
       "      <td>Bring back the shredded chicken burrito</td>\n",
       "    </tr>\n",
       "    <tr>\n",
       "      <th>14</th>\n",
       "      <td>IN ORDR 2 UNDERSTAND Y WE R KEPT DOWN U NED 2 ...</td>\n",
       "      <td>IN ORDR UNDERSTAND Y WE R KEPT DOWN U NED REAL...</td>\n",
       "    </tr>\n",
       "    <tr>\n",
       "      <th>15</th>\n",
       "      <td>Really!?!  that’s how y’all gonna do your burr...</td>\n",
       "      <td>Really that s how y all gonna do your burritos...</td>\n",
       "    </tr>\n",
       "    <tr>\n",
       "      <th>16</th>\n",
       "      <td>IN ORDR 2 UNDERSTAND HOO CONTROLS US U NED 2 R...</td>\n",
       "      <td>IN ORDR UNDERSTAND HOO CONTROLS US U NED REALI...</td>\n",
       "    </tr>\n",
       "    <tr>\n",
       "      <th>17</th>\n",
       "      <td>Donuts and Cake for Noe from Marengo Taco Bell...</td>\n",
       "      <td>Donuts and Cake for Noe from Marengo Taco Bell...</td>\n",
       "    </tr>\n",
       "    <tr>\n",
       "      <th>18</th>\n",
       "      <td>You can get Eat! Drink! Smoke! with  and  on !...</td>\n",
       "      <td>You can get Eat Drink Smoke with and on This w...</td>\n",
       "    </tr>\n",
       "    <tr>\n",
       "      <th>19</th>\n",
       "      <td>So good I had to share! Check out all the item...</td>\n",
       "      <td>So good I had to share Check out all the items...</td>\n",
       "    </tr>\n",
       "  </tbody>\n",
       "</table>\n",
       "</div>"
      ],
      "text/plain": [
       "                                              content  \\\n",
       "0   If you like Tacos, what do you like more - Har...   \n",
       "1        I’ve seen rumblings about that…shhhhh\\n\\n\\n    \n",
       "2   You can  me if you want, but if you set out to...   \n",
       "3   TEH TRAITRS R AGENTS OV TEH ANTICHRIST AN THEI...   \n",
       "4   We are talking , , and  with the Happy Hour An...   \n",
       "5   Is there any thing at Taco Bell that is real f...   \n",
       "6   Start them out right!  17yo future paramedic  ...   \n",
       "7   Every time my kid picks  over delicious, local...   \n",
       "8    son super excited, to b getting support dog. ...   \n",
       "9             is calling my name right now..lol\\nBbs    \n",
       "10  IN ORDR 2 UNDERSTAND HOO CONTROLS US U NED 2 R...   \n",
       "11  Anyone else hate that  commercial with the bit...   \n",
       "12  I love me .  Newest YouTube and TikTok short.\\...   \n",
       "13           Bring back the shredded chicken burrito    \n",
       "14  IN ORDR 2 UNDERSTAND Y WE R KEPT DOWN U NED 2 ...   \n",
       "15  Really!?!  that’s how y’all gonna do your burr...   \n",
       "16  IN ORDR 2 UNDERSTAND HOO CONTROLS US U NED 2 R...   \n",
       "17  Donuts and Cake for Noe from Marengo Taco Bell...   \n",
       "18  You can get Eat! Drink! Smoke! with  and  on !...   \n",
       "19  So good I had to share! Check out all the item...   \n",
       "\n",
       "                                          Tweet_clean  \n",
       "0   If you like Tacos what do you like more Hard o...  \n",
       "1               I ve seen rumblings about that shhhhh  \n",
       "2   You can me if you want but if you set out to c...  \n",
       "3   TEH TRAITRS R AGENTS OV TEH ANTICHRIST AN THEI...  \n",
       "4   We are talking and with the Happy Hour Anchorm...  \n",
       "5   Is there any thing at Taco Bell that is real food  \n",
       "6   Start them out right yo future paramedic Taco ...  \n",
       "7   Every time my kid picks over delicious local T...  \n",
       "8   son super excited to b getting support dog Txt...  \n",
       "9                  is calling my name right nowlolBbs  \n",
       "10  IN ORDR UNDERSTAND HOO CONTROLS US U NED REALI...  \n",
       "11  Anyone else hate that commercial with the bitc...  \n",
       "12          I love me Newest YouTube and TikTok short  \n",
       "13            Bring back the shredded chicken burrito  \n",
       "14  IN ORDR UNDERSTAND Y WE R KEPT DOWN U NED REAL...  \n",
       "15  Really that s how y all gonna do your burritos...  \n",
       "16  IN ORDR UNDERSTAND HOO CONTROLS US U NED REALI...  \n",
       "17  Donuts and Cake for Noe from Marengo Taco Bell...  \n",
       "18  You can get Eat Drink Smoke with and on This w...  \n",
       "19  So good I had to share Check out all the items...  "
      ]
     },
     "execution_count": 158,
     "metadata": {},
     "output_type": "execute_result"
    }
   ],
   "source": [
    "#df = df.drop(columns=['content'])\n",
    "df = df.reset_index()\n",
    "df = df.drop(columns='index')\n",
    "df.to_csv(\"cleaned_tweets.csv\")\n",
    "df.head(20)"
   ]
  }
 ],
 "metadata": {
  "kernelspec": {
   "display_name": "Python 3",
   "language": "python",
   "name": "python3"
  },
  "language_info": {
   "codemirror_mode": {
    "name": "ipython",
    "version": 3
   },
   "file_extension": ".py",
   "mimetype": "text/x-python",
   "name": "python",
   "nbconvert_exporter": "python",
   "pygments_lexer": "ipython3",
   "version": "3.8.5"
  }
 },
 "nbformat": 4,
 "nbformat_minor": 4
}
